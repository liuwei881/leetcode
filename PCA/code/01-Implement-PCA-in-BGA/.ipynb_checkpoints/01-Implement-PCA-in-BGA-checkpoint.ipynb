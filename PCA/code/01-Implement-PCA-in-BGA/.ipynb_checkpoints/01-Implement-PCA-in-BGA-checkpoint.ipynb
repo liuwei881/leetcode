{
 "cells": [
  {
   "cell_type": "markdown",
   "metadata": {},
   "source": [
    "## 使用梯度上升法实现PCA"
   ]
  },
  {
   "cell_type": "code",
   "execution_count": 1,
   "metadata": {},
   "outputs": [],
   "source": [
    "import numpy as np\n",
    "import matplotlib.pyplot as plt"
   ]
  },
  {
   "cell_type": "code",
   "execution_count": 23,
   "metadata": {},
   "outputs": [
    {
     "name": "stdout",
     "output_type": "stream",
     "text": [
      "[[97.56711569 83.20393045]\n",
      " [71.5639456  34.71196203]\n",
      " [ 2.40805128 10.74594082]\n",
      " [71.34003963 43.72877883]\n",
      " [61.84955741 48.90371023]\n",
      " [50.30675623 20.59668501]\n",
      " [96.74472395 72.10184296]\n",
      " [19.18357876 10.06136974]\n",
      " [ 7.16429524 16.73566235]\n",
      " [21.22787649 22.16608503]\n",
      " [87.39701931 79.96909265]\n",
      " [42.19524101 52.22328098]\n",
      " [35.9057547  18.90893209]\n",
      " [26.24848783 23.98023156]\n",
      " [ 7.63022148  4.88821819]\n",
      " [23.75809722  5.33137309]\n",
      " [51.29680567 44.81464338]\n",
      " [30.33236824 33.75576172]\n",
      " [30.7751882  26.75884427]\n",
      " [24.601905   16.35671734]\n",
      " [17.40520985 20.23827568]\n",
      " [49.24964665 45.78499355]\n",
      " [50.02600535 42.13814666]\n",
      " [71.19993957 57.72863596]\n",
      " [60.36639236 54.31713875]\n",
      " [ 2.49650117 -1.15658485]\n",
      " [47.28532366 27.72725718]\n",
      " [ 9.6587292  -0.14384734]\n",
      " [10.3765656   2.33636864]\n",
      " [90.37401874 85.29882757]\n",
      " [35.07747386 21.35357326]\n",
      " [32.75010365 27.47313097]\n",
      " [38.26172015 26.4238141 ]\n",
      " [58.67191845 31.73189362]\n",
      " [93.85611289 69.33901484]\n",
      " [56.25321872 37.57645709]\n",
      " [88.04160583 69.66476434]\n",
      " [93.45899575 87.42238703]\n",
      " [57.11662743 56.52825528]\n",
      " [94.10459959 85.63058429]\n",
      " [95.68258096 85.78847235]\n",
      " [ 0.17775501 -1.70635525]\n",
      " [73.31979916 56.24660922]\n",
      " [36.24650083 17.07811947]\n",
      " [63.67416403 44.99159702]\n",
      " [65.10754503 48.18002413]\n",
      " [83.78926561 75.81583051]\n",
      " [29.24352128 15.69843502]\n",
      " [ 7.70095106 10.74283377]\n",
      " [37.08892846 38.01970288]\n",
      " [54.13332034 36.22034134]\n",
      " [50.8759914  50.41603786]\n",
      " [41.80719017 27.79090249]\n",
      " [10.41524124  5.55834665]\n",
      " [47.62717639 33.22664082]\n",
      " [88.63737725 61.04495341]\n",
      " [15.08457921 27.84809459]\n",
      " [42.62589052 40.60204727]\n",
      " [97.47658038 70.4720625 ]\n",
      " [16.1546316  17.50444731]\n",
      " [83.27116303 59.65001079]\n",
      " [80.09357126 89.94495762]\n",
      " [99.64739504 76.67517431]\n",
      " [76.54189892 67.01023686]\n",
      " [95.30154313 72.65984994]\n",
      " [23.12991514 14.30301346]\n",
      " [ 6.83760363 10.72336888]\n",
      " [44.06182215 40.51793156]\n",
      " [44.4127389   9.54977693]\n",
      " [90.59812844 94.34464375]\n",
      " [30.35296165 41.63300668]\n",
      " [55.25123015 37.26742823]\n",
      " [93.33797119 87.39991128]\n",
      " [38.03093934 33.84874651]\n",
      " [82.59321664 49.48719088]\n",
      " [34.48054248 31.32353753]\n",
      " [30.66008719 25.46869496]\n",
      " [46.70690916 30.67853049]\n",
      " [51.98336889 52.42253854]\n",
      " [12.83722754 13.58673888]\n",
      " [34.0424872  14.46058999]\n",
      " [19.0932604  21.87535627]\n",
      " [49.18773598 30.30521816]\n",
      " [14.20131499 16.58982749]\n",
      " [12.10532266  6.72100089]\n",
      " [24.12289644 14.9190081 ]\n",
      " [21.70970074 21.91132552]\n",
      " [66.21853813 48.65389124]\n",
      " [ 5.67133682  9.00110448]\n",
      " [91.18381869 79.42961213]\n",
      " [50.27857453 51.07511872]\n",
      " [ 7.77516181 -9.16649947]\n",
      " [97.83797448 75.69790287]\n",
      " [68.05498843 46.66209441]\n",
      " [79.92429908 62.54787968]\n",
      " [23.51689145 -2.29132582]\n",
      " [10.46708189 12.38290396]\n",
      " [96.72662097 67.26778815]\n",
      " [ 7.39104692  2.99813317]\n",
      " [28.71871684 30.57893912]]\n"
     ]
    }
   ],
   "source": [
    "X = np.empty((100, 2))\n",
    "X[:,0] = np.random.uniform(0., 100., size=100)\n",
    "X[:,1] = 0.75 * X[:,0] + 3. + np.random.normal(0, 10., size=100)\n",
    "print(X)"
   ]
  },
  {
   "cell_type": "code",
   "execution_count": 3,
   "metadata": {},
   "outputs": [
    {
     "data": {
      "image/png": "[encoded data removed]",
      "text/plain": [
       "<Figure size 432x288 with 1 Axes>"
      ]
     },
     "metadata": {},
     "output_type": "display_data"
    }
   ],
   "source": [
    "plt.scatter(X[:,0], X[:,1])\n",
    "plt.show()"
   ]
  },
  {
   "cell_type": "markdown",
   "metadata": {},
   "source": [
    "### demean"
   ]
  },
  {
   "cell_type": "code",
   "execution_count": 4,
   "metadata": {},
   "outputs": [],
   "source": [
    "def demean(X):\n",
    "    return X - np.mean(X, axis=0)"
   ]
  },
  {
   "cell_type": "code",
   "execution_count": 5,
   "metadata": {},
   "outputs": [],
   "source": [
    "X_demean = demean(X)"
   ]
  },
  {
   "cell_type": "code",
   "execution_count": 6,
   "metadata": {},
   "outputs": [
    {
     "data": {
      "image/png": "[encoded data removed]",
      "text/plain": [
       "<Figure size 432x288 with 1 Axes>"
      ]
     },
     "metadata": {},
     "output_type": "display_data"
    }
   ],
   "source": [
    "plt.scatter(X_demean[:,0], X_demean[:,1])\n",
    "plt.show()"
   ]
  },
  {
   "cell_type": "code",
   "execution_count": 7,
   "metadata": {},
   "outputs": [
    {
     "data": {
      "text/plain": [
       "9.947598300641402e-15"
      ]
     },
     "execution_count": 7,
     "metadata": {},
     "output_type": "execute_result"
    }
   ],
   "source": [
    "np.mean(X_demean[:,0])"
   ]
  },
  {
   "cell_type": "code",
   "execution_count": 8,
   "metadata": {},
   "outputs": [
    {
     "data": {
      "text/plain": [
       "-1.580957587066223e-14"
      ]
     },
     "execution_count": 8,
     "metadata": {},
     "output_type": "execute_result"
    }
   ],
   "source": [
    "np.mean(X_demean[:,1])"
   ]
  },
  {
   "cell_type": "markdown",
   "metadata": {},
   "source": [
    "### 梯度上升法"
   ]
  },
  {
   "cell_type": "code",
   "execution_count": 9,
   "metadata": {},
   "outputs": [],
   "source": [
    "def f(w, X):\n",
    "    return np.sum((X.dot(w)**2)) / len(X)\n",
    "\n",
    "def df_math(w, X):\n",
    "    return X.T.dot(X.dot(w)) * 2. / len(X)\n",
    "\n",
    "def df_debug(w, X, epsilon=0.0001):\n",
    "    res = np.empty(len(w))\n",
    "    for i in range(len(w)):\n",
    "        w_1 = w.copy()\n",
    "        w_1[i] += epsilon\n",
    "        w_2 = w.copy()\n",
    "        w_2[i] -= epsilon\n",
    "        res[i] = (f(w_1, X) - f(w_2, X)) / (2 * epsilon)\n",
    "    return res\n",
    "\n",
    "def direction(w):\n",
    "    return w / np.linalg.norm(w)\n",
    "\n",
    "def gradient_ascent(df, X, initial_w, eta, n_iters = 1e4, epsilon=1e-8):\n",
    "    \n",
    "    w = direction(initial_w) \n",
    "    cur_iter = 0\n",
    "\n",
    "    while cur_iter < n_iters:\n",
    "        gradient = df(w, X)\n",
    "        last_w = w\n",
    "        w = w + eta * gradient\n",
    "        w = direction(w) # 注意1：每次求一个单位方向\n",
    "        if(abs(f(w, X) - f(last_w, X)) < epsilon):\n",
    "            break\n",
    "            \n",
    "        cur_iter += 1\n",
    "\n",
    "    return w"
   ]
  },
  {
   "cell_type": "code",
   "execution_count": 10,
   "metadata": {},
   "outputs": [
    {
     "data": {
      "text/plain": [
       "array([0.03873455, 0.3070772 ])"
      ]
     },
     "execution_count": 10,
     "metadata": {},
     "output_type": "execute_result"
    }
   ],
   "source": [
    "initial_w = np.random.random(X.shape[1]) # 注意2：不能用0向量开始\n",
    "initial_w"
   ]
  },
  {
   "cell_type": "code",
   "execution_count": 11,
   "metadata": {},
   "outputs": [],
   "source": [
    "eta = 0.001\n",
    "# 注意3： 不能使用StandardScaler标准化数据"
   ]
  },
  {
   "cell_type": "code",
   "execution_count": 12,
   "metadata": {},
   "outputs": [
    {
     "data": {
      "text/plain": [
       "array([0.7846411 , 0.61995027])"
      ]
     },
     "execution_count": 12,
     "metadata": {},
     "output_type": "execute_result"
    }
   ],
   "source": [
    "gradient_ascent(df_debug, X_demean, initial_w, eta)"
   ]
  },
  {
   "cell_type": "code",
   "execution_count": 13,
   "metadata": {},
   "outputs": [
    {
     "data": {
      "text/plain": [
       "array([0.7846411 , 0.61995027])"
      ]
     },
     "execution_count": 13,
     "metadata": {},
     "output_type": "execute_result"
    }
   ],
   "source": [
    "gradient_ascent(df_math, X_demean, initial_w, eta)"
   ]
  },
  {
   "cell_type": "code",
   "execution_count": 14,
   "metadata": {},
   "outputs": [],
   "source": [
    "w = gradient_ascent(df_math, X_demean, initial_w, eta)"
   ]
  },
  {
   "cell_type": "code",
   "execution_count": 15,
   "metadata": {},
   "outputs": [
    {
     "data": {
      "image/png": "[encoded data removed]",
      "text/plain": [
       "<Figure size 432x288 with 1 Axes>"
      ]
     },
     "metadata": {},
     "output_type": "display_data"
    }
   ],
   "source": [
    "plt.scatter(X_demean[:,0], X_demean[:,1])\n",
    "plt.plot([0, w[0]*30], [0, w[1]*30], color='r')\n",
    "plt.show()"
   ]
  },
  {
   "cell_type": "markdown",
   "metadata": {},
   "source": [
    "### 使用极端数据集测试"
   ]
  },
  {
   "cell_type": "code",
   "execution_count": 16,
   "metadata": {},
   "outputs": [],
   "source": [
    "X2 = np.empty((100, 2))\n",
    "X2[:,0] = np.random.uniform(0., 100., size=100)\n",
    "X2[:,1] = 0.75 * X2[:,0] + 3."
   ]
  },
  {
   "cell_type": "code",
   "execution_count": 17,
   "metadata": {},
   "outputs": [
    {
     "data": {
      "image/png": "[encoded data removed]",
      "text/plain": [
       "<Figure size 432x288 with 1 Axes>"
      ]
     },
     "metadata": {},
     "output_type": "display_data"
    }
   ],
   "source": [
    "plt.scatter(X2[:,0], X2[:,1])\n",
    "plt.show()"
   ]
  },
  {
   "cell_type": "code",
   "execution_count": 18,
   "metadata": {},
   "outputs": [],
   "source": [
    "X2_demean = demean(X2)"
   ]
  },
  {
   "cell_type": "code",
   "execution_count": 19,
   "metadata": {},
   "outputs": [],
   "source": [
    "w2 = gradient_ascent(df_math, X2_demean, initial_w, eta)"
   ]
  },
  {
   "cell_type": "code",
   "execution_count": 20,
   "metadata": {},
   "outputs": [
    {
     "data": {
      "image/png": "[encoded data removed]",
      "text/plain": [
       "<Figure size 432x288 with 1 Axes>"
      ]
     },
     "metadata": {},
     "output_type": "display_data"
    }
   ],
   "source": [
    "plt.scatter(X2_demean[:,0], X2_demean[:,1])\n",
    "plt.plot([0, w2[0]*30], [0, w2[1]*30], color='r')\n",
    "plt.show()"
   ]
  },
  {
   "cell_type": "markdown",
   "metadata": {},
   "source": [
    "同学们可以自己思考实现随机梯度下降法和小批量梯度下降法的版本：）"
   ]
  }
 ],
 "metadata": {
  "kernelspec": {
   "display_name": "Python 3",
   "language": "python",
   "name": "python3"
  },
  "language_info": {
   "codemirror_mode": {
    "name": "ipython",
    "version": 3
   },
   "file_extension": ".py",
   "mimetype": "text/x-python",
   "name": "python",
   "nbconvert_exporter": "python",
   "pygments_lexer": "ipython3",
   "version": "3.6.5"
  }
 },
 "nbformat": 4,
 "nbformat_minor": 2
}
